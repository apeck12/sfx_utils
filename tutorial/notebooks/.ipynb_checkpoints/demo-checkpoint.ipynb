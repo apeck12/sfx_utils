{
 "cells": [
  {
   "cell_type": "markdown",
   "id": "14b52fbc",
   "metadata": {},
   "source": [
    "# PiPCA Demo"
   ]
  },
  {
   "cell_type": "markdown",
   "id": "30186876",
   "metadata": {},
   "source": [
    "PiPCA is a proof of concept Python tool used for exploratory data analysis on experimental LCLS data. This demo will review the functionality of the tool as it exists in its present state."
   ]
  },
  {
   "cell_type": "markdown",
   "id": "02eb1795",
   "metadata": {},
   "source": [
    "## Setup and Introductory Analysis"
   ]
  },
  {
   "cell_type": "markdown",
   "id": "bcad0acb",
   "metadata": {},
   "source": [
    "The functionality of PiPCA is accessible through the IPCA class in the btx repository. This tutorial assumes access to SLAC unix servers through the pslogin portal. First we add the relevant repository to our system path."
   ]
  },
  {
   "cell_type": "code",
   "execution_count": 1,
   "id": "fb32ab18",
   "metadata": {},
   "outputs": [],
   "source": [
    "import sys\n",
    "sys.path.append(\"/cds/home/h/hepworth/btx-callum\")"
   ]
  },
  {
   "cell_type": "markdown",
   "id": "c26229de",
   "metadata": {},
   "source": [
    "Next we import all relevant functions from the ipca and psana_interface classes, as well as additional useful libraries."
   ]
  },
  {
   "cell_type": "code",
   "execution_count": 2,
   "id": "e031297e",
   "metadata": {},
   "outputs": [
    {
     "ename": "ModuleNotFoundError",
     "evalue": "No module named 'btx'",
     "output_type": "error",
     "traceback": [
      "\u001b[1;31m---------------------------------------------------------------------------\u001b[0m",
      "\u001b[1;31mModuleNotFoundError\u001b[0m                       Traceback (most recent call last)",
      "\u001b[1;32m~\\AppData\\Local\\Temp/ipykernel_13140/358105483.py\u001b[0m in \u001b[0;36m<module>\u001b[1;34m\u001b[0m\n\u001b[1;32m----> 1\u001b[1;33m \u001b[1;32mfrom\u001b[0m \u001b[0mbtx\u001b[0m\u001b[1;33m.\u001b[0m\u001b[0minterfaces\u001b[0m\u001b[1;33m.\u001b[0m\u001b[0mpsana_interface\u001b[0m \u001b[1;32mimport\u001b[0m \u001b[1;33m*\u001b[0m\u001b[1;33m\u001b[0m\u001b[1;33m\u001b[0m\u001b[0m\n\u001b[0m\u001b[0;32m      2\u001b[0m \u001b[1;32mfrom\u001b[0m \u001b[0mbtx\u001b[0m\u001b[1;33m.\u001b[0m\u001b[0mprocessing\u001b[0m\u001b[1;33m.\u001b[0m\u001b[0mipca\u001b[0m \u001b[1;32mimport\u001b[0m \u001b[1;33m*\u001b[0m\u001b[1;33m\u001b[0m\u001b[1;33m\u001b[0m\u001b[0m\n\u001b[0;32m      3\u001b[0m \u001b[1;33m\u001b[0m\u001b[0m\n\u001b[0;32m      4\u001b[0m \u001b[1;32mimport\u001b[0m \u001b[0mnumpy\u001b[0m \u001b[1;32mas\u001b[0m \u001b[0mnp\u001b[0m\u001b[1;33m\u001b[0m\u001b[1;33m\u001b[0m\u001b[0m\n",
      "\u001b[1;31mModuleNotFoundError\u001b[0m: No module named 'btx'"
     ]
    }
   ],
   "source": [
    "from btx.interfaces.psana_interface import *\n",
    "from btx.processing.ipca import *\n",
    "\n",
    "import numpy as np"
   ]
  },
  {
   "cell_type": "markdown",
   "id": "19057e4f",
   "metadata": {},
   "source": [
    "In order to run PiPCA on a dataset one must first initialize an instance of the IPCA class, supplying relevant parameters when necessary, including the run number, experiment name, and detector type of said data."
   ]
  },
  {
   "cell_type": "code",
   "execution_count": null,
   "id": "a0321591",
   "metadata": {},
   "outputs": [],
   "source": [
    "exp = 'amo06516' # experiment name\n",
    "run = 90 #run number\n",
    "det_type = 'pnccdFront' # detector name, e.g epix10k2M or jungfrau4M\n",
    "\n",
    "q = 100 # number of principal components to compute and maintain\n",
    "n = 500 # total number of images to be incorporated into model\n",
    "m = 100 # size of image batch incorporated in each model update\n",
    "start_offset = 0 # run index of first image to be incorporated into iPCA model"
   ]
  },
  {
   "cell_type": "markdown",
   "id": "5b18364e",
   "metadata": {},
   "source": [
    "With a set of example parameters supplied we now instantiate our PiPCA instance."
   ]
  },
  {
   "cell_type": "code",
   "execution_count": null,
   "id": "db9d7e48",
   "metadata": {},
   "outputs": [],
   "source": [
    "ipca = IPCA(exp=exp, run=run, det_type=det_type, start_offset=start_offset, rum_components=q, batch_size=m, num_images=n)"
   ]
  },
  {
   "cell_type": "markdown",
   "id": "e0502ec2",
   "metadata": {},
   "source": [
    "User supplied parameters are adjusted if they are incompatible with the PiPCA algorithm. The finalized parameters can be accessed as follows."
   ]
  },
  {
   "cell_type": "code",
   "execution_count": null,
   "id": "bae8c73a",
   "metadata": {},
   "outputs": [],
   "source": [
    "ipca.get_ipca_params()"
   ]
  },
  {
   "cell_type": "markdown",
   "id": "3e2dae03",
   "metadata": {},
   "source": [
    "PiPCA is run on the dataset identified by the supplied user parameters using the following method."
   ]
  },
  {
   "cell_type": "code",
   "execution_count": 3,
   "id": "4728f466",
   "metadata": {},
   "outputs": [
    {
     "ename": "NameError",
     "evalue": "name 'ipca' is not defined",
     "output_type": "error",
     "traceback": [
      "\u001b[1;31m---------------------------------------------------------------------------\u001b[0m",
      "\u001b[1;31mNameError\u001b[0m                                 Traceback (most recent call last)",
      "\u001b[1;32m~\\AppData\\Local\\Temp/ipykernel_13140/4270838161.py\u001b[0m in \u001b[0;36m<module>\u001b[1;34m\u001b[0m\n\u001b[1;32m----> 1\u001b[1;33m \u001b[0mipca\u001b[0m\u001b[1;33m.\u001b[0m\u001b[0mrun_ipca\u001b[0m\u001b[1;33m(\u001b[0m\u001b[1;33m)\u001b[0m\u001b[1;33m\u001b[0m\u001b[1;33m\u001b[0m\u001b[0m\n\u001b[0m",
      "\u001b[1;31mNameError\u001b[0m: name 'ipca' is not defined"
     ]
    }
   ],
   "source": [
    "ipca.run_ipca()"
   ]
  },
  {
   "cell_type": "markdown",
   "id": "fe26cc69",
   "metadata": {},
   "source": [
    "Provided the sample run is small enough, metrics comparing a run of PiPCA and batch PCA on the supplied data can be computed using the `verify_model_accuracy` method"
   ]
  },
  {
   "cell_type": "code",
   "execution_count": 4,
   "id": "fdc1c861",
   "metadata": {},
   "outputs": [
    {
     "ename": "NameError",
     "evalue": "name 'ipca' is not defined",
     "output_type": "error",
     "traceback": [
      "\u001b[1;31m---------------------------------------------------------------------------\u001b[0m",
      "\u001b[1;31mNameError\u001b[0m                                 Traceback (most recent call last)",
      "\u001b[1;32m~\\AppData\\Local\\Temp/ipykernel_13140/329175891.py\u001b[0m in \u001b[0;36m<module>\u001b[1;34m\u001b[0m\n\u001b[1;32m----> 1\u001b[1;33m \u001b[0mipca\u001b[0m\u001b[1;33m.\u001b[0m\u001b[0mverify_model_accuracy\u001b[0m\u001b[1;33m(\u001b[0m\u001b[1;33m)\u001b[0m\u001b[1;33m\u001b[0m\u001b[1;33m\u001b[0m\u001b[0m\n\u001b[0m",
      "\u001b[1;31mNameError\u001b[0m: name 'ipca' is not defined"
     ]
    }
   ],
   "source": [
    "ipca.verify_model_accuracy()"
   ]
  },
  {
   "cell_type": "code",
   "execution_count": null,
   "id": "03dc972d",
   "metadata": {},
   "outputs": [],
   "source": []
  }
 ],
 "metadata": {
  "kernelspec": {
   "display_name": "Python 3 (ipykernel)",
   "language": "python",
   "name": "python3"
  },
  "language_info": {
   "codemirror_mode": {
    "name": "ipython",
    "version": 3
   },
   "file_extension": ".py",
   "mimetype": "text/x-python",
   "name": "python",
   "nbconvert_exporter": "python",
   "pygments_lexer": "ipython3",
   "version": "3.9.5"
  }
 },
 "nbformat": 4,
 "nbformat_minor": 5
}
